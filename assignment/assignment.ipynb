{
  "cells": [
    {
      "cell_type": "markdown",
      "metadata": {
        "id": "view-in-github",
        "colab_type": "text"
      },
      "source": [
        "<a href=\"https://colab.research.google.com/github/KeerHu73/linearModels/blob/main/assignment/assignment.ipynb\" target=\"_parent\"><img src=\"https://colab.research.google.com/assets/colab-badge.svg\" alt=\"Open In Colab\"/></a>"
      ]
    },
    {
      "cell_type": "markdown",
      "id": "e0c7b14a-e5aa-4abc-b48b-b8a9d20dacac",
      "metadata": {
        "id": "e0c7b14a-e5aa-4abc-b48b-b8a9d20dacac"
      },
      "source": [
        "# Assignment: Linear Models\n",
        "## Do three questions.\n",
        "### `! git clone https://github.com/ds4e/linearModels`"
      ]
    },
    {
      "cell_type": "markdown",
      "id": "bf4826b0",
      "metadata": {
        "id": "bf4826b0"
      },
      "source": [
        "**Q1.** Please answer the following questions in your own words.\n",
        "\n",
        "1. What makes a model \"linear\"? \"Linear\" in what?\n",
        "2. How do you interpret the coefficient for a dummy/one-hot-encoded variable? (This is a trick question, and the trick involves how you handle the intercept of the model.)\n",
        "3. Can linear regression be used for classification? Explain why, or why not.\n",
        "4. What are signs that your linear model is over-fitting?\n",
        "5. Clearly explain multi-colinearity using the two-stage least squares technique.\n",
        "6. How can you incorporate nonlinear relationships between your target/response/dependent/outcome variable $y$ and your features/control/response/independent variables $x$ into your analysis?\n",
        "7. What is the interpretation of the intercept? A slope coefficient for a variable? The coefficient for a dummy/one-hot-encoded variable?"
      ]
    },
    {
      "cell_type": "markdown",
      "source": [
        "1). The model is linear in the parameters, not necessarily in the variables. A linear model predicts the outcome variable y as a linear combination of weights and features:\n",
        "\n",
        "> \"Because the weights 𝑏𝑘 enter the model in a multiplicative way, this is a linear model.\" (I quoted from the lecture)\n",
        "\n"
      ],
      "metadata": {
        "id": "JtMANT9XGYgZ"
      },
      "id": "JtMANT9XGYgZ"
    },
    {
      "cell_type": "markdown",
      "source": [
        "2). From the lecture,\n",
        "> \"If you have an intercept and all of the dummies, you can replicate one of your regressors from a combination of other ones. This is called perfect multicollinearity, and some of your coefficients won't be defined.\"\n",
        "\n",
        "Thus, the coefficient represents the effect relative to the omitted (baseline) category if drop_first=True is used."
      ],
      "metadata": {
        "id": "yQmP2VJCIUZw"
      },
      "id": "yQmP2VJCIUZw"
    },
    {
      "cell_type": "markdown",
      "source": [
        "3). This is not discussed directly in the PDF. However, the text does differentiate between regression and classification briefly:\n",
        "\n",
        "> \"NN and MC illustrate the distinctions between regression and classification...\"\n",
        "\n",
        "Therefore, while the PDF does not elaborate, it implicitly treats linear regression as a tool for predicting continuous outcomes, not class labels.\n",
        "\n"
      ],
      "metadata": {
        "id": "q7tYVwavIjlV"
      },
      "id": "q7tYVwavIjlV"
    },
    {
      "cell_type": "markdown",
      "source": [
        "4). While \"overfitting\" is not explicitly mentioned, it is implied in sections discussing expanding the feature space:\n",
        "\n",
        "> \"This is where we run into a significant danger of overfitting: The more complex the feature space, the more opportunities we give the model to pick non-representative cases...\""
      ],
      "metadata": {
        "id": "LX2pQ9TRIrab"
      },
      "id": "LX2pQ9TRIrab"
    },
    {
      "cell_type": "markdown",
      "source": [
        "5). The lecture discusses the impact of multicollinearity and introduces the idea of “partialing out”:\n",
        "\n",
        "> \"Linear regression 'partials out' all of the variation in 𝑥𝑘 that can be explained by the other features...\"\n",
        "\n",
        "It also explains how to compute coefficients via regression on residuals—a two-stage approach:\n",
        "\n",
        "> \"Regress 𝑦 and 𝑥𝑘 on all of the other coefficients... then regress the residuals...\""
      ],
      "metadata": {
        "id": "_tPteLrYI0M3"
      },
      "id": "_tPteLrYI0M3"
    },
    {
      "cell_type": "markdown",
      "source": [
        "6). I can include age² and mileage² to control for non-linear aging effects or interact variables and expand the feature space... polynomial, interaction terms, transformations..."
      ],
      "metadata": {
        "id": "XBcl5AdBJQKO"
      },
      "id": "XBcl5AdBJQKO"
    },
    {
      "cell_type": "markdown",
      "source": [
        "7).\n",
        "*   Intercept b0: It is the expected value of y when all Xi = 0.\n",
        "*   Slope bk: Marginal effect of a one-unit change in Xk on y, holding others constant.\n",
        "*   Dummy coefficient: Effect relative to the omitted category in one-hot encoding.\n",
        "\n",
        "\n",
        "\n",
        "\n",
        "\n"
      ],
      "metadata": {
        "id": "TbHkx-JRJq-2"
      },
      "id": "TbHkx-JRJq-2"
    },
    {
      "cell_type": "markdown",
      "id": "25bf83c6-ff44-42d6-9b33-8be1b945860d",
      "metadata": {
        "id": "25bf83c6-ff44-42d6-9b33-8be1b945860d"
      },
      "source": [
        "**Q2.** Load `./data/Q1_clean.csv`. The data include\n",
        "\n",
        "- `Price` per night\n",
        "- `Review Scores Rating`: The average rating for the property\n",
        "- `Neighbourhood `: The bourough of NYC. Note the space, or rename the variable.\n",
        "- `Property Type`: The kind of dwelling\n",
        "- `Room Type`: The kind of space being rented\n",
        "\n",
        "1. Compute the average prices and scores by `Neighbourhood `; which bourough is the most expensive on average? Create a kernel density plot of price and log price, grouping by `Neighbourhood `.\n",
        "2. Regress price on `Neighbourhood ` by creating the appropriate dummy/one-hot-encoded variables, without an intercept in the linear model and using all the data. Compare the coefficients in the regression to the table from part 1. What pattern do you see? What are the coefficients in a regression of a continuous variable on one categorical variable?\n",
        "3. Repeat part 2, but leave an intercept in the linear model. How do you have to handle the creation of the dummies differently? What is the intercept? Interpret the coefficients. How can I get the coefficients in part 2 from these new coefficients?\n",
        "4. Split the sample 80/20 into a training and a test set. Run a regression of `Price` on `Review Scores Rating` and `Neighbourhood `. What is the $R^2$ and RMSE on the test set? What is the coefficient on `Review Scores Rating`? What is the most expensive kind of property you can rent?\n",
        "5. Split the sample 80/20 into a training and a test set. Run a regression of `Price` on `Review Scores Rating` and `Neighbourhood ` and `Property Type`. What is the $R^2$ and RMSE on the test set? What is the coefficient on `Review Scores Rating`? What is the most expensive kind of property you can rent?\n",
        "6. What does the coefficient on `Review Scores Rating` mean if it changes from part 4 to 5? Hint: Think about how multilple linear regression works.\n",
        "7. (Optional) We've included `Neighborhood ` and `Property Type` separately in the model. How do you interact them, so you can have \"A bedroom in Queens\" or \"A townhouse in Manhattan\". Split the sample 80/20 into a training and a test set and run a regression including that kind of \"property type X neighborhood\" dummy, plus `Review Scores Rating`. How does the slope coefficient for `Review Scores Rating`, the $R^2$, and the RMSE change? Do they increase significantly compares to part 5? Are the coefficients in this regression just the sum of the coefficients for `Neighbourhood ` and `Property Type` from 5? What is the most expensive kind of property you can rent?"
      ]
    },
    {
      "cell_type": "markdown",
      "id": "95f22300-0180-4ed2-be8f-ed56cf4cd36b",
      "metadata": {
        "id": "95f22300-0180-4ed2-be8f-ed56cf4cd36b"
      },
      "source": [
        "**Q3.** This question is a case study for linear models. The data are about car prices. In particular, they include:\n",
        "\n",
        "  - `Price`, `Color`, `Seating_Capacity`\n",
        "  - `Body_Type`: crossover, hatchback, muv, sedan, suv\n",
        "  - `Make`, `Make_Year`: The brand of car and year produced\n",
        "  - `Mileage_Run`: The number of miles on the odometer\n",
        "  - `Fuel_Type`: Diesel or gasoline/petrol\n",
        "  - `Transmission`, `Transmission_Type`:  speeds and automatic/manual\n",
        "\n",
        "  1. Load `cars_hw.csv`. These data were really dirty, and I've already cleaned them a significant amount in terms of missing values and other issues, but some issues remain (e.g. outliers, badly scaled variables that require a log or arcsinh transformation). Clean the data however you think is most appropriate.\n",
        "  2. Summarize the `Price` variable and create a kernel density plot. Use `.groupby()` and `.describe()` to summarize prices by brand (`Make`). Make a grouped kernel density plot by `Make`. Which car brands are the most expensive? What do prices look like in general?\n",
        "  3. Split the data into an 80% training set and a 20% testing set.\n",
        "  4. Make a model where you regress price on the numeric variables alone; what is the $R^2$ and `RMSE` on the training set and test set? Make a second model where, for the categorical variables, you regress price on a model comprised of one-hot encoded regressors/features alone (you can use `pd.get_dummies()`; be careful of the dummy variable trap); what is the $R^2$ and `RMSE` on the test set? Which model performs better on the test set? Make a third model that combines all the regressors from the previous two; what is the $R^2$ and `RMSE` on the test set? Does the joint model perform better or worse, and by home much?\n",
        "  5. Use the `PolynomialFeatures` function from `sklearn` to expand the set of numerical variables you're using in the regression. As you increase the degree of the expansion, how do the $R^2$ and `RMSE` change? At what point does $R^2$ go negative on the test set? For your best model with expanded features, what is the $R^2$ and `RMSE`? How does it compare to your best model from part 4?\n",
        "  6. For your best model so far, determine the predicted values for the test data and plot them against the true values. Do the predicted values and true values roughly line up along the diagonal, or not? Compute the residuals/errors for the test data and create a kernel density plot. Do the residuals look roughly bell-shaped around zero? Evaluate the strengths and weaknesses of your model."
      ]
    },
    {
      "cell_type": "markdown",
      "id": "aedcd486",
      "metadata": {
        "id": "aedcd486"
      },
      "source": [
        "**Q4.** This question refers to the `heart_hw.csv` data. It contains three variables:\n",
        "\n",
        "  - `y`: Whether the individual survived for three years, coded 0 for death and 1 for survival\n",
        "  - `age`: Patient's age\n",
        "  - `transplant`: `control` for not receiving a transplant and `treatment` for receiving a transplant\n",
        "\n",
        "Since a heart transplant is a dangerous operation and even people who successfully get heart transplants might suffer later complications, we want to look at whether a group of transplant recipients tends to survive longer than a comparison group who does not get the procedure.\n",
        "\n",
        "1. Compute (a) the proportion of people who survive in the control group who do not receive a transplant, and (b) the difference between the proportion of people who survive in the treatment group and the proportion of people who survive in the control group. In a randomized controlled trial, this is called the **average treatment effect**.\n",
        "2. Regress `y` on `transplant` using a linear model with a constant. How does the constant/intercept of the regression and the coefficient on transplant compare to your answers from part 1? Explain the relationship clearly.\n",
        "3. We'd like to include `age` in the regression, since it's reasonable to expect that older patients are less likely to survive an extensive surgery like a heart transplant. Regress `y` on a constant, transplant, and age. How does the intercept change?\n",
        "4. Build a more flexible model that allows for non-linear age effects and interactions between age and treatment. Use a train-test split to validate your model. Estimate your best model, predict the survival probability by age, and plot your results conditional on receiving a transplant and not. Describe what you see.\n",
        "5. Imagine someone suggests using these kinds of models to select who receives organ transplants; perhaps the CDC or NIH starts using a scoring algorithm to decide who is contacted about a potential organ. What are your concerns about how it is built and how it is deployed?"
      ]
    },
    {
      "cell_type": "code",
      "source": [
        "import pandas as pd\n",
        "import numpy as np\n",
        "\n",
        "# Load the heart transplant dataset\n",
        "df = pd.read_csv(\"/content/heart_hw.csv\")\n",
        "df.describe()"
      ],
      "metadata": {
        "id": "8GOVYWWsLWC2",
        "outputId": "8d003e9a-d2e2-4e42-a953-f587af2c1728",
        "colab": {
          "base_uri": "https://localhost:8080/",
          "height": 300
        }
      },
      "id": "8GOVYWWsLWC2",
      "execution_count": 2,
      "outputs": [
        {
          "output_type": "execute_result",
          "data": {
            "text/plain": [
              "       Unnamed: 0         age           y\n",
              "count  103.000000  103.000000  103.000000\n",
              "mean    52.000000   44.640777    0.271845\n",
              "std     29.877528    9.797813    0.447086\n",
              "min      1.000000    8.000000    0.000000\n",
              "25%     26.500000   41.000000    0.000000\n",
              "50%     52.000000   47.000000    0.000000\n",
              "75%     77.500000   52.000000    1.000000\n",
              "max    103.000000   64.000000    1.000000"
            ],
            "text/html": [
              "\n",
              "  <div id=\"df-88f4eb48-574b-4a28-9719-5bc97234e8c4\" class=\"colab-df-container\">\n",
              "    <div>\n",
              "<style scoped>\n",
              "    .dataframe tbody tr th:only-of-type {\n",
              "        vertical-align: middle;\n",
              "    }\n",
              "\n",
              "    .dataframe tbody tr th {\n",
              "        vertical-align: top;\n",
              "    }\n",
              "\n",
              "    .dataframe thead th {\n",
              "        text-align: right;\n",
              "    }\n",
              "</style>\n",
              "<table border=\"1\" class=\"dataframe\">\n",
              "  <thead>\n",
              "    <tr style=\"text-align: right;\">\n",
              "      <th></th>\n",
              "      <th>Unnamed: 0</th>\n",
              "      <th>age</th>\n",
              "      <th>y</th>\n",
              "    </tr>\n",
              "  </thead>\n",
              "  <tbody>\n",
              "    <tr>\n",
              "      <th>count</th>\n",
              "      <td>103.000000</td>\n",
              "      <td>103.000000</td>\n",
              "      <td>103.000000</td>\n",
              "    </tr>\n",
              "    <tr>\n",
              "      <th>mean</th>\n",
              "      <td>52.000000</td>\n",
              "      <td>44.640777</td>\n",
              "      <td>0.271845</td>\n",
              "    </tr>\n",
              "    <tr>\n",
              "      <th>std</th>\n",
              "      <td>29.877528</td>\n",
              "      <td>9.797813</td>\n",
              "      <td>0.447086</td>\n",
              "    </tr>\n",
              "    <tr>\n",
              "      <th>min</th>\n",
              "      <td>1.000000</td>\n",
              "      <td>8.000000</td>\n",
              "      <td>0.000000</td>\n",
              "    </tr>\n",
              "    <tr>\n",
              "      <th>25%</th>\n",
              "      <td>26.500000</td>\n",
              "      <td>41.000000</td>\n",
              "      <td>0.000000</td>\n",
              "    </tr>\n",
              "    <tr>\n",
              "      <th>50%</th>\n",
              "      <td>52.000000</td>\n",
              "      <td>47.000000</td>\n",
              "      <td>0.000000</td>\n",
              "    </tr>\n",
              "    <tr>\n",
              "      <th>75%</th>\n",
              "      <td>77.500000</td>\n",
              "      <td>52.000000</td>\n",
              "      <td>1.000000</td>\n",
              "    </tr>\n",
              "    <tr>\n",
              "      <th>max</th>\n",
              "      <td>103.000000</td>\n",
              "      <td>64.000000</td>\n",
              "      <td>1.000000</td>\n",
              "    </tr>\n",
              "  </tbody>\n",
              "</table>\n",
              "</div>\n",
              "    <div class=\"colab-df-buttons\">\n",
              "\n",
              "  <div class=\"colab-df-container\">\n",
              "    <button class=\"colab-df-convert\" onclick=\"convertToInteractive('df-88f4eb48-574b-4a28-9719-5bc97234e8c4')\"\n",
              "            title=\"Convert this dataframe to an interactive table.\"\n",
              "            style=\"display:none;\">\n",
              "\n",
              "  <svg xmlns=\"http://www.w3.org/2000/svg\" height=\"24px\" viewBox=\"0 -960 960 960\">\n",
              "    <path d=\"M120-120v-720h720v720H120Zm60-500h600v-160H180v160Zm220 220h160v-160H400v160Zm0 220h160v-160H400v160ZM180-400h160v-160H180v160Zm440 0h160v-160H620v160ZM180-180h160v-160H180v160Zm440 0h160v-160H620v160Z\"/>\n",
              "  </svg>\n",
              "    </button>\n",
              "\n",
              "  <style>\n",
              "    .colab-df-container {\n",
              "      display:flex;\n",
              "      gap: 12px;\n",
              "    }\n",
              "\n",
              "    .colab-df-convert {\n",
              "      background-color: #E8F0FE;\n",
              "      border: none;\n",
              "      border-radius: 50%;\n",
              "      cursor: pointer;\n",
              "      display: none;\n",
              "      fill: #1967D2;\n",
              "      height: 32px;\n",
              "      padding: 0 0 0 0;\n",
              "      width: 32px;\n",
              "    }\n",
              "\n",
              "    .colab-df-convert:hover {\n",
              "      background-color: #E2EBFA;\n",
              "      box-shadow: 0px 1px 2px rgba(60, 64, 67, 0.3), 0px 1px 3px 1px rgba(60, 64, 67, 0.15);\n",
              "      fill: #174EA6;\n",
              "    }\n",
              "\n",
              "    .colab-df-buttons div {\n",
              "      margin-bottom: 4px;\n",
              "    }\n",
              "\n",
              "    [theme=dark] .colab-df-convert {\n",
              "      background-color: #3B4455;\n",
              "      fill: #D2E3FC;\n",
              "    }\n",
              "\n",
              "    [theme=dark] .colab-df-convert:hover {\n",
              "      background-color: #434B5C;\n",
              "      box-shadow: 0px 1px 3px 1px rgba(0, 0, 0, 0.15);\n",
              "      filter: drop-shadow(0px 1px 2px rgba(0, 0, 0, 0.3));\n",
              "      fill: #FFFFFF;\n",
              "    }\n",
              "  </style>\n",
              "\n",
              "    <script>\n",
              "      const buttonEl =\n",
              "        document.querySelector('#df-88f4eb48-574b-4a28-9719-5bc97234e8c4 button.colab-df-convert');\n",
              "      buttonEl.style.display =\n",
              "        google.colab.kernel.accessAllowed ? 'block' : 'none';\n",
              "\n",
              "      async function convertToInteractive(key) {\n",
              "        const element = document.querySelector('#df-88f4eb48-574b-4a28-9719-5bc97234e8c4');\n",
              "        const dataTable =\n",
              "          await google.colab.kernel.invokeFunction('convertToInteractive',\n",
              "                                                    [key], {});\n",
              "        if (!dataTable) return;\n",
              "\n",
              "        const docLinkHtml = 'Like what you see? Visit the ' +\n",
              "          '<a target=\"_blank\" href=https://colab.research.google.com/notebooks/data_table.ipynb>data table notebook</a>'\n",
              "          + ' to learn more about interactive tables.';\n",
              "        element.innerHTML = '';\n",
              "        dataTable['output_type'] = 'display_data';\n",
              "        await google.colab.output.renderOutput(dataTable, element);\n",
              "        const docLink = document.createElement('div');\n",
              "        docLink.innerHTML = docLinkHtml;\n",
              "        element.appendChild(docLink);\n",
              "      }\n",
              "    </script>\n",
              "  </div>\n",
              "\n",
              "\n",
              "<div id=\"df-d0cbedea-2018-48e8-bd8e-f89be492528b\">\n",
              "  <button class=\"colab-df-quickchart\" onclick=\"quickchart('df-d0cbedea-2018-48e8-bd8e-f89be492528b')\"\n",
              "            title=\"Suggest charts\"\n",
              "            style=\"display:none;\">\n",
              "\n",
              "<svg xmlns=\"http://www.w3.org/2000/svg\" height=\"24px\"viewBox=\"0 0 24 24\"\n",
              "     width=\"24px\">\n",
              "    <g>\n",
              "        <path d=\"M19 3H5c-1.1 0-2 .9-2 2v14c0 1.1.9 2 2 2h14c1.1 0 2-.9 2-2V5c0-1.1-.9-2-2-2zM9 17H7v-7h2v7zm4 0h-2V7h2v10zm4 0h-2v-4h2v4z\"/>\n",
              "    </g>\n",
              "</svg>\n",
              "  </button>\n",
              "\n",
              "<style>\n",
              "  .colab-df-quickchart {\n",
              "      --bg-color: #E8F0FE;\n",
              "      --fill-color: #1967D2;\n",
              "      --hover-bg-color: #E2EBFA;\n",
              "      --hover-fill-color: #174EA6;\n",
              "      --disabled-fill-color: #AAA;\n",
              "      --disabled-bg-color: #DDD;\n",
              "  }\n",
              "\n",
              "  [theme=dark] .colab-df-quickchart {\n",
              "      --bg-color: #3B4455;\n",
              "      --fill-color: #D2E3FC;\n",
              "      --hover-bg-color: #434B5C;\n",
              "      --hover-fill-color: #FFFFFF;\n",
              "      --disabled-bg-color: #3B4455;\n",
              "      --disabled-fill-color: #666;\n",
              "  }\n",
              "\n",
              "  .colab-df-quickchart {\n",
              "    background-color: var(--bg-color);\n",
              "    border: none;\n",
              "    border-radius: 50%;\n",
              "    cursor: pointer;\n",
              "    display: none;\n",
              "    fill: var(--fill-color);\n",
              "    height: 32px;\n",
              "    padding: 0;\n",
              "    width: 32px;\n",
              "  }\n",
              "\n",
              "  .colab-df-quickchart:hover {\n",
              "    background-color: var(--hover-bg-color);\n",
              "    box-shadow: 0 1px 2px rgba(60, 64, 67, 0.3), 0 1px 3px 1px rgba(60, 64, 67, 0.15);\n",
              "    fill: var(--button-hover-fill-color);\n",
              "  }\n",
              "\n",
              "  .colab-df-quickchart-complete:disabled,\n",
              "  .colab-df-quickchart-complete:disabled:hover {\n",
              "    background-color: var(--disabled-bg-color);\n",
              "    fill: var(--disabled-fill-color);\n",
              "    box-shadow: none;\n",
              "  }\n",
              "\n",
              "  .colab-df-spinner {\n",
              "    border: 2px solid var(--fill-color);\n",
              "    border-color: transparent;\n",
              "    border-bottom-color: var(--fill-color);\n",
              "    animation:\n",
              "      spin 1s steps(1) infinite;\n",
              "  }\n",
              "\n",
              "  @keyframes spin {\n",
              "    0% {\n",
              "      border-color: transparent;\n",
              "      border-bottom-color: var(--fill-color);\n",
              "      border-left-color: var(--fill-color);\n",
              "    }\n",
              "    20% {\n",
              "      border-color: transparent;\n",
              "      border-left-color: var(--fill-color);\n",
              "      border-top-color: var(--fill-color);\n",
              "    }\n",
              "    30% {\n",
              "      border-color: transparent;\n",
              "      border-left-color: var(--fill-color);\n",
              "      border-top-color: var(--fill-color);\n",
              "      border-right-color: var(--fill-color);\n",
              "    }\n",
              "    40% {\n",
              "      border-color: transparent;\n",
              "      border-right-color: var(--fill-color);\n",
              "      border-top-color: var(--fill-color);\n",
              "    }\n",
              "    60% {\n",
              "      border-color: transparent;\n",
              "      border-right-color: var(--fill-color);\n",
              "    }\n",
              "    80% {\n",
              "      border-color: transparent;\n",
              "      border-right-color: var(--fill-color);\n",
              "      border-bottom-color: var(--fill-color);\n",
              "    }\n",
              "    90% {\n",
              "      border-color: transparent;\n",
              "      border-bottom-color: var(--fill-color);\n",
              "    }\n",
              "  }\n",
              "</style>\n",
              "\n",
              "  <script>\n",
              "    async function quickchart(key) {\n",
              "      const quickchartButtonEl =\n",
              "        document.querySelector('#' + key + ' button');\n",
              "      quickchartButtonEl.disabled = true;  // To prevent multiple clicks.\n",
              "      quickchartButtonEl.classList.add('colab-df-spinner');\n",
              "      try {\n",
              "        const charts = await google.colab.kernel.invokeFunction(\n",
              "            'suggestCharts', [key], {});\n",
              "      } catch (error) {\n",
              "        console.error('Error during call to suggestCharts:', error);\n",
              "      }\n",
              "      quickchartButtonEl.classList.remove('colab-df-spinner');\n",
              "      quickchartButtonEl.classList.add('colab-df-quickchart-complete');\n",
              "    }\n",
              "    (() => {\n",
              "      let quickchartButtonEl =\n",
              "        document.querySelector('#df-d0cbedea-2018-48e8-bd8e-f89be492528b button');\n",
              "      quickchartButtonEl.style.display =\n",
              "        google.colab.kernel.accessAllowed ? 'block' : 'none';\n",
              "    })();\n",
              "  </script>\n",
              "</div>\n",
              "\n",
              "    </div>\n",
              "  </div>\n"
            ],
            "application/vnd.google.colaboratory.intrinsic+json": {
              "type": "dataframe",
              "summary": "{\n  \"name\": \"df\",\n  \"rows\": 8,\n  \"fields\": [\n    {\n      \"column\": \"Unnamed: 0\",\n      \"properties\": {\n        \"dtype\": \"number\",\n        \"std\": 36.81743536002172,\n        \"min\": 1.0,\n        \"max\": 103.0,\n        \"num_unique_values\": 6,\n        \"samples\": [\n          103.0,\n          52.0,\n          77.5\n        ],\n        \"semantic_type\": \"\",\n        \"description\": \"\"\n      }\n    },\n    {\n      \"column\": \"age\",\n      \"properties\": {\n        \"dtype\": \"number\",\n        \"std\": 30.21633219872905,\n        \"min\": 8.0,\n        \"max\": 103.0,\n        \"num_unique_values\": 8,\n        \"samples\": [\n          44.640776699029125,\n          47.0,\n          103.0\n        ],\n        \"semantic_type\": \"\",\n        \"description\": \"\"\n      }\n    },\n    {\n      \"column\": \"y\",\n      \"properties\": {\n        \"dtype\": \"number\",\n        \"std\": 36.281069938374884,\n        \"min\": 0.0,\n        \"max\": 103.0,\n        \"num_unique_values\": 5,\n        \"samples\": [\n          0.27184466019417475,\n          1.0,\n          0.4470858749217427\n        ],\n        \"semantic_type\": \"\",\n        \"description\": \"\"\n      }\n    }\n  ]\n}"
            }
          },
          "metadata": {},
          "execution_count": 2
        }
      ]
    },
    {
      "cell_type": "markdown",
      "source": [
        "1. Calculate ATE"
      ],
      "metadata": {
        "id": "HxlcHa05MOvB"
      },
      "id": "HxlcHa05MOvB"
    },
    {
      "cell_type": "code",
      "source": [
        "# First, we need to split control and treatment groups based on the transplant variable\n",
        "# and then we need to calculate the mean of y, which gives the proportion of people who survived in each group\n",
        "\n",
        "# Calculate survival rate in the control group (no transplant)\n",
        "control_group = df[df['transplant'] == 'control']\n",
        "prop_control = control_group['y'].mean()\n",
        "\n",
        "# Then calculate survival rate in the treatment group (received transplant)\n",
        "treatment_group = df[df['transplant'] == 'treatment']\n",
        "prop_treatment = treatment_group['y'].mean()\n",
        "\n",
        "# Then the ATE is the difference:\n",
        "ate = prop_treatment - prop_control\n"
      ],
      "metadata": {
        "id": "2LZFLRM_L5a7"
      },
      "id": "2LZFLRM_L5a7",
      "execution_count": 12,
      "outputs": []
    },
    {
      "cell_type": "code",
      "source": [
        "print(\"Proportion of people who survived in the control group (no transplant):\", prop_control*100 ,\"%\")\n",
        "print(\"Proportion of people who survived in the treatment group (received transplant):\", prop_treatment *100 , \"%\")\n",
        "print(\"Average Treatment Effect (ATE):\", ate *100 ,\"%\")"
      ],
      "metadata": {
        "id": "XC771AyNQ0UP",
        "outputId": "fca3aefa-961c-45d5-e565-de9fc938165a",
        "colab": {
          "base_uri": "https://localhost:8080/"
        }
      },
      "id": "XC771AyNQ0UP",
      "execution_count": 21,
      "outputs": [
        {
          "output_type": "stream",
          "name": "stdout",
          "text": [
            "Proportion of people who survived in the control group (no transplant): 11.76470588235294 %\n",
            "Proportion of people who survived in the treatment group (received transplant): 34.78260869565217 %\n",
            "Average Treatment Effect (ATE): 23.017902813299234 %\n"
          ]
        }
      ]
    },
    {
      "cell_type": "markdown",
      "source": [
        "2. This question we need to use a simple linear regression to estimate how receiving a transplant affects survival probability."
      ],
      "metadata": {
        "id": "NqE4zT1xNUXi"
      },
      "id": "NqE4zT1xNUXi"
    },
    {
      "cell_type": "code",
      "source": [
        "# Create a binary dummy variable: 1 if treatment, 0 if control\n",
        "df['transplant_dummy'] = (df['transplant'] == 'treatment').astype(int)\n",
        "\n",
        "# Define predictor x and response y\n",
        "x = df['transplant_dummy']\n",
        "y = df['y']\n",
        "\n",
        "# Compute sample means of x and y\n",
        "x_bar = x.mean()\n",
        "y_bar = y.mean()\n",
        "\n",
        "# Use vector inner product to compute slope coefficient (b1)\n",
        "# Formula: b1 = Cov(x, y) / Var(x) = (x - x̄)'(y - ȳ) / (x - x̄)'(x - x̄)\n",
        "b1 = np.inner(x - x_bar, y - y_bar) / np.inner(x - x_bar, x - x_bar)\n",
        "\n",
        "# Compute intercept (b0) using: b0 = ȳ - b1 * x̄\n",
        "b0 = y_bar - b1 * x_bar\n",
        "\n",
        "# Predict survival values using the model: ŷ = b0 + b1 * x\n",
        "y_hat = b0 + b1 * x\n",
        "\n",
        "# Calculate residuals (difference between observed and predicted y)\n",
        "residuals = y - y_hat"
      ],
      "metadata": {
        "id": "TkBDXIr9NgBa"
      },
      "id": "TkBDXIr9NgBa",
      "execution_count": 7,
      "outputs": []
    },
    {
      "cell_type": "code",
      "source": [
        "print(\"Intercept (control survival):\",y_hat)\n",
        "print(\"Transplant effect (coefficient):\",b1 )\n"
      ],
      "metadata": {
        "id": "90DznVodRhIO",
        "outputId": "771136c2-11ce-4416-8409-3634b9122615",
        "colab": {
          "base_uri": "https://localhost:8080/"
        }
      },
      "id": "90DznVodRhIO",
      "execution_count": 29,
      "outputs": [
        {
          "output_type": "stream",
          "name": "stdout",
          "text": [
            "Intercept (control survival): 0      0.117647\n",
            "1      0.117647\n",
            "2      0.117647\n",
            "3      0.117647\n",
            "4      0.117647\n",
            "         ...   \n",
            "98     0.117647\n",
            "99     0.347826\n",
            "100    0.347826\n",
            "101    0.347826\n",
            "102    0.347826\n",
            "Name: transplant_dummy, Length: 103, dtype: float64\n",
            "Transplant effect (coefficient): 0.23017902813299232\n"
          ]
        }
      ]
    },
    {
      "cell_type": "markdown",
      "source": [
        "3. It's a multiple linear regression: y ~ transplant + age"
      ],
      "metadata": {
        "id": "p95-_8DPOHj4"
      },
      "id": "p95-_8DPOHj4"
    },
    {
      "cell_type": "code",
      "source": [
        "# we need to add age to the model to account for its effect on survival\n",
        "\n",
        "# Build the design matrix X with columns: intercept, transplant_dummy, age\n",
        "X2 = df[['transplant_dummy', 'age']].copy()\n",
        "X2.insert(0, '(Intercept)', 1)  # Add a column of 1s for the intercept\n",
        "X_mat = X2.to_numpy()           # Convert dataframe to numpy matrix\n",
        "\n",
        "# Convert response y to a numpy vector\n",
        "y_vec = df['y'].to_numpy()\n",
        "\n",
        "# Compute X'X and X'y using matrix multiplication (as in PDF)\n",
        "XtX = X_mat.T @ X_mat           # X transpose times X\n",
        "Xty = X_mat.T @ y_vec           # X transpose times y\n",
        "\n",
        "# Solve the normal equations: (X'X)·b = X'y\n",
        "# This gives us the optimal coefficients: b0 (intercept), b1 (transplant), b2 (age)\n",
        "b2 = np.linalg.solve(XtX, Xty)\n"
      ],
      "metadata": {
        "id": "FjQH6F_MOXpl"
      },
      "id": "FjQH6F_MOXpl",
      "execution_count": 25,
      "outputs": []
    },
    {
      "cell_type": "code",
      "source": [],
      "metadata": {
        "id": "PKBAstipR7ai",
        "outputId": "077a8b80-6aa7-4bda-9954-4cc39190eee4",
        "colab": {
          "base_uri": "https://localhost:8080/"
        }
      },
      "id": "PKBAstipR7ai",
      "execution_count": 26,
      "outputs": [
        {
          "output_type": "stream",
          "name": "stdout",
          "text": [
            "[ 0.70195697  0.26470169 -0.01360722]\n"
          ]
        }
      ]
    },
    {
      "cell_type": "markdown",
      "source": [
        "4."
      ],
      "metadata": {
        "id": "miAv8elBPSAg"
      },
      "id": "miAv8elBPSAg"
    },
    {
      "cell_type": "code",
      "source": [
        "# Use age^2 to create nonlinear\n",
        "df['age_squared'] = df['age'] ** 2\n",
        "df['age_x_transplant'] = df['age'] * df['transplant_dummy']#To indicate whether the transplantation effect varies with age.\n",
        "\n",
        "# Then, build the design matrix for flexible model\n",
        "X_flex = df[['transplant_dummy', 'age', 'age_squared', 'age_x_transplant']].copy()\n",
        "X_flex.insert(0, '(Intercept)', 1)\n",
        "X_flex_matrix = X_flex.to_numpy()\n",
        "\n",
        "# Convert y to numpy vector\n",
        "y_vec = df['y'].to_numpy()\n",
        "\n",
        "# Solve the normal equation using matrix algebra.\n",
        "XtX_flex = X_flex_matrix.T @ X_flex_matrix\n",
        "Xty_flex = X_flex_matrix.T @ y_vec\n",
        "beta_flex = np.linalg.solve(XtX_flex, Xty_flex)"
      ],
      "metadata": {
        "id": "M21_geDKPS88"
      },
      "id": "M21_geDKPS88",
      "execution_count": 11,
      "outputs": []
    },
    {
      "cell_type": "markdown",
      "source": [
        "5. If the data used to train the model is imbalanced (e.g., biased toward healthier or wealthier populations), the results will reflect and perpetuate that bias.\n",
        "\n"
      ],
      "metadata": {
        "id": "hFfi-SCoPmaP"
      },
      "id": "hFfi-SCoPmaP"
    },
    {
      "cell_type": "markdown",
      "id": "7bd15c6b-4c7c-4230-a199-e03e1054ec6a",
      "metadata": {
        "id": "7bd15c6b-4c7c-4230-a199-e03e1054ec6a"
      },
      "source": [
        "**Q5.** This is a question about linear regression. The outcome is whether a defendant is held pre-trial in the Virginia justice system. We would like to understand how that outcome is predicted by characteristics of the defendant, particularly race. Let's be very careful/clear: We aren't saying anyone *should* be held without bond or asserting that people with different demographic variables *should* be more likely to be held, but instead trying to predict whether people with different characteristics *are empirically more likely* to be held without bond, given the available information. This is the first step we would take in investigating whether a system is fair, or how large the disparities are: Does it treat people with similar observable characteristics similarly, or not? We are going to look at a common question: Are Black defendants treated differently from white or Asian ones? (There are Native American defendants, but there are 11 in total, which is such a small number of observations that is difficult to clearly say anything about how this group is treated relative to the others.)\n",
        "\n",
        "The variables in the data are:\n",
        "\n",
        "  - `held_wo_bail`: Whether a defendant is held without bail before trial (Boolean logical)\n",
        "  - `race`, `sex`: Categorical demographic variables\n",
        "  - `is_poor`: Whether the defendant is classified as indigent\n",
        "  - `prior_F`, `prior_M`: The number of prior felony and misdemeanor arrests\n",
        "  - `case_type`: A categorical variable indicating a misdemeanor `M` or felony `F` or infraction `I` or special case `S`\n",
        "  - `age`: Defendant's age\n",
        "  - `bond`, `bond_NA`, `bond_type`: The amount of any bond, whether it is missing, and the type\n",
        "  - `sentence`, `sentence_NA`, `sentence_type`: The length of any sentence, whether it is missing, and the type\n",
        "\n",
        "1. Load the `pretrial_data.csv` data. Notice that there are `nan`s, but the data are relatively clean. Because there are `.nan`s among variables you won't use, you'll want to narrow down your analysis to the relevant variables before dropping or imputing missing values.\n",
        "2. Create a dummy variable indicating that the defendant is Black.\n",
        "3. Regress `held` on `Black`. What is the slope coefficient Interpret the coefficient on the Black dummy variable: How much more likely is a black person to be held without bail? What is the $R^2$ of the model?\n",
        "4. Before doing this question, please think for a few minutes about how to make the process of running the following regressions as efficient as possible, before jumping into writing code. Repeat part 2, for the following specifications, keeping track of the coefficient on the Black dummy variable each time:\n",
        "      - `held` on `Black` and `sex`\n",
        "      - `held` on `Black` and `sex` and `is_poor`\n",
        "      - `held` on `Black` and `sex` and `is_poor` and `prior_F`\n",
        "      - `held` on `Black` and `sex` and `is_poor` and `prior_F` and `case_type`\n",
        "What happens to the coefficient on the Black dummy variable as you include more regressors/features/controls in the regression? Explain your findings.\n",
        "5. Suppose we don't want to see just `Black` and `sex`, but `Black` interacted with `sex`: Are Black men and Black women treated systemically differently from the rest of the population? Implement this in a regression, and explain your findings.\n",
        "6. Imagine someone argued we should use these kinds of models to help a judge or magistrate make bail decisions (you could obviously go back and make this kind of model for the bond and sentence variables, then deploy it on new cases to predict what their bond and sentence values would be). What concerns would you have? Do you think society should be using data-driven and automated tools like that? Explain your concerns clearly."
      ]
    },
    {
      "cell_type": "markdown",
      "id": "ca1cfba3",
      "metadata": {
        "vscode": {
          "languageId": "plaintext"
        },
        "id": "ca1cfba3"
      },
      "source": [
        "**Q6.** Let's explore multiple linear regression in a two-variable case, to build more intuition about what is happening.\n",
        "\n",
        "Suppose the model is\n",
        "$$\n",
        "\\hat{y}_i = b_0 + b_1 z_{i1} + b_2 z_{i2}\n",
        "$$\n",
        "Assume that $z_{ij}$ is centered or de-meaned, so that $z_{ij} = x_{ij} - m_j$ where $m_j$ is the mean of variable $j$ and $x_{ij}$ is the original value of variable $j$ for observation $i$. Notice that this implies\n",
        "$$\n",
        "\\dfrac{1}{N} \\sum_{i=1}^N z_{ij} = 0\n",
        "$$\n",
        "which will simplify your calculations below substantially!\n",
        "\n",
        "1. Write down the SSE for this model.\n",
        "2. Take partial derivatives with respect to $b_0$, $b_1$, and $b_2$.\n",
        "3. Verify that the average error is zero and $e \\cdot z =0$ at the optimum, just as in the single linear regression case.\n",
        "4. Show that the optimal intercept is $b_0^* = \\bar{y}$. Eliminate $b_0^*$ from the remaining equations, and focus on $b_1$ and $b_2$.\n",
        "5. Write your results as a matrix equation in the form \"$Ab=C$\". These are called the **normal equations**.\n",
        "6. Divide both sides by $N$ and substitute $z_{ij} = x_{ij} - m_j$ back into your normal equations for $x_{ij}$. What is the matrix $A$? What is the vector $C$? Explain the intuition of your discovery."
      ]
    },
    {
      "cell_type": "markdown",
      "id": "547d5828",
      "metadata": {
        "id": "547d5828"
      },
      "source": [
        "**Q7.** In class, we showed that for the single linear regression model,\n",
        "\\begin{alignat*}{3}\n",
        "a^* &=& \\bar{y} \\\\\n",
        "b^* &=& \\dfrac{\\sum_{i=1}^N(y_i - \\bar{y})(x_i-\\bar{x})}{\\sum_{i=1}^N (x_i-\\bar{x})^2},\n",
        "\\end{alignat*}\n",
        "\n",
        "1. When will $b^*$ be large or small, depending on the relationship between $X$ and $Y$ and the variance of $X$?\n",
        "2. Suppose you have measurement error in $X$ which artificially inflates its variance (e.g. bad data cleaning). We'll model this as saying the \"real\" value of $X$ for observation $i$ is $z_i$, but we observe $x_i = z_i + n_i$, where $n_i$ is the added noise. Does this affect the intercept of the regression? What happens to the $b^*$ coefficient relative to a noise-less model? How will affect your ability to predict? (This phenomenon is called **attenuation**.)\n",
        "3. Suppose the noise $n_i$ is independent of $z_i$ and $y_i$, so that (approximately)\n",
        "$$\n",
        "\\dfrac{1}{N} \\sum_{i=1}^N (y_i - \\bar{y})(n_i - \\bar{n}) =0, \\quad \\dfrac{1}{N} \\sum_{i=1}^N (z_i - \\bar{z})(n_i - \\bar{n}) =0.\n",
        "$$\n",
        "and that the mean of the bias is zero, so that\n",
        "$$\n",
        "\\dfrac{1}{N} \\sum_{i=1}^N n_i = 0.\n",
        "$$\n",
        "In this case, the noise $n_i$ is zero on average and independent of the values of $x_i$ and $y_i$: It's just measurement error or lazy data cleaning.\n",
        "Explain the intuition of your result.\n",
        "\n",
        "4. How does attenuation factor into the cost-benefit analysis of gathering higher quality data or cleaning it more carefully?"
      ]
    },
    {
      "cell_type": "markdown",
      "id": "b67478ac-ad78-4a44-9720-583c71b8da14",
      "metadata": {
        "id": "b67478ac-ad78-4a44-9720-583c71b8da14"
      },
      "source": [
        "**Q8.**\n",
        "1. Find a dataset on a topic you're interested in. Some easy options are data.gov, kaggle.com, and data.world.\n",
        "2. Clean the data and do some exploratory data analysis on key variables that interest you. Pick a particular target/outcome variable and features/predictors.\n",
        "3. Split the sample into an ~80% training set and a ~20% test set.\n",
        "4. Run a few regressions of your target/outcome variable on a variety of features/predictors. Compute the SSE on the test set.\n",
        "5. Which model performed the best, and why?\n",
        "6. What did you learn?"
      ]
    },
    {
      "cell_type": "markdown",
      "id": "fcf48562",
      "metadata": {
        "id": "fcf48562"
      },
      "source": [
        "**Q9.** There is a folder called `heart_failure` which contains reasonably detailed health data on patients and whether they die of congestive heart failure.\n",
        "\n",
        "1. Load the data and perform an 80/20-train/test split.\n",
        "2. Using dummy/one-hot-encoded variables and transformations of the numeric features, build the best model you can. **But**, do not delete code chunks or revise your work substantially as you experiment. Just keep moving forward with your ideas and experiments.\n",
        "3. When you're done, scroll through your notebook. What worked and what didn't? Does your code have intention, or are you randomly experimenting? If you had to do this again, what might you do differently to get to a good model faster?\n"
      ]
    },
    {
      "cell_type": "markdown",
      "id": "0125d03b",
      "metadata": {
        "vscode": {
          "languageId": "plaintext"
        },
        "id": "0125d03b"
      },
      "source": [
        "**Q10.** Let's look at a cousin of Linear Regression, called **kernel regression** or **local constant least squares** or **Nadaraya-Watson Estimator**.\n",
        "\n",
        "We derived the OLS estimator for single linear regression by minimizing\n",
        "$$\n",
        "SSE(b_0, b_1) = \\frac{1}{N}\\sum_{i=1}^N (y_i - b_0 - b_1 x_i)^2\n",
        "$$\n",
        "with solution\n",
        "$$\n",
        "\\hat{b}_0 = \\bar{y} - \\hat{b}_1 \\bar{x}, \\quad \\hat{b}_1 = \\dfrac{\\frac{1}{N} \\sum_{i=1}^N (x_i-\\bar{x})(y_i - \\bar{y})}{s_x^2}.\n",
        "$$\n",
        "\n",
        "When you step back and think about it, this is a bit weird: The algorithm is computing sample means, variances, and covariances, and using those to create a predictive model. The data themselves arguably vanish from the solution. This is elegant, this is strange.\n",
        "\n",
        "Instead, let $k(z)$ be a kernel function, such as the Gaussian\n",
        "$$\n",
        "k(z) = \\frac{1}{\\sqrt{2\\pi}} e^{-z^2/2}\n",
        "$$\n",
        "or uniform\n",
        "$$\n",
        "k(z) = \\begin{cases}\n",
        "1/2, & |z| \\le \\frac{1}{2}\\\\\n",
        "0, & \\text{otherwise.}\n",
        "\\end{cases}\n",
        "$$\n",
        "We'll instead minimize, or each predictor value $x$,\n",
        "$$\n",
        "SSE(\\hat{y}(x)) = \\dfrac{1}{N} \\sum_{i=1}^N \\left\\lbrace y_i - \\hat{y}(x)\\right\\rbrace^2 \\dfrac{1}{h} k \\left( \\dfrac{x-x_i}{h} \\right).\n",
        "$$\n",
        "\n",
        "1. Show that the optimal predictor is\n",
        "$$\n",
        "\\hat{y}(x) = \\dfrac{ \\frac{1}{Nh} \\sum_{i=1}^N  y_i k \\left( \\dfrac{x-x_i}{h} \\right) }{\\frac{1}{Nh} \\sum_{i=1}^N k \\left(  \\dfrac{x-x_i}{h} \\right)}\n",
        "$$\n",
        "This has many names, but let's call it the local constant least squares (LCLS) estimator, as opposed to ordinary least squares (OLS).\n",
        "\n",
        "2. Compare and contrast LCLS with both OLS and $k$-Nearest Neighbor as a regression algorithm.\n",
        "\n",
        "3. Write a function or class that implements the LCLS estimator for a single predictor variable $x$. For a default bandwidth $h$, you can use the maximum of the Silverman plug-ins for estimating kernel densities for $X$ and $Y$:\n",
        "$$\n",
        "h_y = 1.06 \\times s_y^{-1/5}, \\quad h_x = 1.06 \\times s_x^{-1/5},\n",
        "$$\n",
        "$$\n",
        "h = \\max \\{ h_y, h_x \\}.\n",
        "$$\n",
        "For the kernel, you can hard-code the uniform, Gaussian, or Epanechnikov, or make it a parameter the user can adjust with a default choice.\n",
        "\n",
        "4. For one of the datasets available for the homework, use your LCLS estimator from part 3 to predict values $\\hat{y}(x_i)$ for each datapoint $x_i$. Plot your estimator $\\hat{y}$ as a line over a scatterplot of the data $\\{(x_i,y_i)\\}_{i=1}^N$. Tune the bandwidth until you\n",
        "\n",
        "5. Conceptually, how would you extend this analysis to a vector of predictors, $x = (x_1, ..., x_L)$ instead of just one explanatory variable $x$?\n"
      ]
    }
  ],
  "metadata": {
    "colab": {
      "provenance": [],
      "include_colab_link": true
    },
    "kernelspec": {
      "display_name": "Python 3 (ipykernel)",
      "language": "python",
      "name": "python3"
    },
    "language_info": {
      "codemirror_mode": {
        "name": "ipython",
        "version": 3
      },
      "file_extension": ".py",
      "mimetype": "text/x-python",
      "name": "python",
      "nbconvert_exporter": "python",
      "pygments_lexer": "ipython3",
      "version": "3.12.2"
    }
  },
  "nbformat": 4,
  "nbformat_minor": 5
}