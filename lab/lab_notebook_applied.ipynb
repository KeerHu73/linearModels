{
  "cells": [
    {
      "cell_type": "markdown",
      "metadata": {
        "id": "view-in-github",
        "colab_type": "text"
      },
      "source": [
        "<a href=\"https://colab.research.google.com/github/KeerHu73/linearModels/blob/main/lab/lab_notebook_applied.ipynb\" target=\"_parent\"><img src=\"https://colab.research.google.com/assets/colab-badge.svg\" alt=\"Open In Colab\"/></a>"
      ]
    },
    {
      "cell_type": "markdown",
      "metadata": {
        "vscode": {
          "languageId": "bat"
        },
        "id": "cZen-hMZtF4b"
      },
      "source": [
        "# Hedonic Pricing\n",
        "\n",
        "We often try to predict the price of an asset from its observable characteristics. This is generally called **hedonic pricing**: How do the unit's characteristics determine its market price?\n",
        "\n",
        "In the lab folder, there are three options: housing prices in pierce_county_house_sales.csv, car prices in cars_hw.csv, and airbnb rental prices in airbnb_hw.csv. If you know of another suitable dataset, please feel free to use that one.\n",
        "\n",
        "1. Clean the data and perform some EDA and visualization to get to know the data set.\n",
        "2. Transform your variables --- particularly categorical ones --- for use in your regression analysis.\n",
        "3. Implement an ~80/~20 train-test split. Put the test data aside.\n",
        "4. Build some simple linear models that include no transformations or interactions. Fit them, and determine their RMSE and $R^2$ on the both the training and test sets. Which of your models does the best?\n",
        "5. Make partial correlation plots for each of the numeric variables in your model. Do you notice any significant non-linearities?\n",
        "6. Include transformations and interactions of your variables, and build a more complex model that reflects your ideas about how the features of the asset determine its value. Determine its RMSE and $R^2$ on the training and test sets. How does the more complex model your build compare to the simpler ones?\n",
        "7. Summarize your results from 1 to 6. Have you learned anything about overfitting and underfitting, or model selection?\n",
        "8. If you have time, use the sklearn.linear_model.Lasso to regularize your model and select the most predictive features. Which does it select? What are the RMSE and $R^2$? We'll cover the Lasso later in detail in class."
      ]
    },
    {
      "cell_type": "code",
      "source": [
        "import pandas as pd\n",
        "import numpy as np\n",
        "import matplotlib.pyplot as plt\n",
        "import seaborn as sns\n",
        "\n",
        "url= \"https://raw.githubusercontent.com/KeerHu73/linearModels/refs/heads/main/lab/data/airbnb_hw.csv\"\n",
        "df= pd.read_csv(url)\n",
        "df.head()"
      ],
      "metadata": {
        "id": "DFCMVZRPtU3O",
        "outputId": "d78a6b04-9170-458e-e38e-87b92370962d",
        "colab": {
          "base_uri": "https://localhost:8080/",
          "height": 328
        }
      },
      "execution_count": 5,
      "outputs": [
        {
          "output_type": "execute_result",
          "data": {
            "text/plain": [
              "    Host Id Host Since                                Name Neighbourhood   \\\n",
              "0   5162530        NaN     1 Bedroom in Prime Williamsburg       Brooklyn   \n",
              "1  33134899        NaN     Sunny, Private room in Bushwick       Brooklyn   \n",
              "2  39608626        NaN                Sunny Room in Harlem      Manhattan   \n",
              "3       500  6/26/2008  Gorgeous 1 BR with Private Balcony      Manhattan   \n",
              "4       500  6/26/2008            Trendy Times Square Loft      Manhattan   \n",
              "\n",
              "  Property Type  Review Scores Rating (bin)        Room Type  Zipcode  Beds  \\\n",
              "0     Apartment                         NaN  Entire home/apt  11249.0   1.0   \n",
              "1     Apartment                         NaN     Private room  11206.0   1.0   \n",
              "2     Apartment                         NaN     Private room  10032.0   1.0   \n",
              "3     Apartment                         NaN  Entire home/apt  10024.0   3.0   \n",
              "4     Apartment                        95.0     Private room  10036.0   3.0   \n",
              "\n",
              "   Number of Records  Number Of Reviews Price  Review Scores Rating  \n",
              "0                  1                  0   145                   NaN  \n",
              "1                  1                  1    37                   NaN  \n",
              "2                  1                  1    28                   NaN  \n",
              "3                  1                  0   199                   NaN  \n",
              "4                  1                 39   549                  96.0  "
            ],
            "text/html": [
              "\n",
              "  <div id=\"df-3f8dec30-7918-4ea0-ad06-fd1b030a363a\" class=\"colab-df-container\">\n",
              "    <div>\n",
              "<style scoped>\n",
              "    .dataframe tbody tr th:only-of-type {\n",
              "        vertical-align: middle;\n",
              "    }\n",
              "\n",
              "    .dataframe tbody tr th {\n",
              "        vertical-align: top;\n",
              "    }\n",
              "\n",
              "    .dataframe thead th {\n",
              "        text-align: right;\n",
              "    }\n",
              "</style>\n",
              "<table border=\"1\" class=\"dataframe\">\n",
              "  <thead>\n",
              "    <tr style=\"text-align: right;\">\n",
              "      <th></th>\n",
              "      <th>Host Id</th>\n",
              "      <th>Host Since</th>\n",
              "      <th>Name</th>\n",
              "      <th>Neighbourhood</th>\n",
              "      <th>Property Type</th>\n",
              "      <th>Review Scores Rating (bin)</th>\n",
              "      <th>Room Type</th>\n",
              "      <th>Zipcode</th>\n",
              "      <th>Beds</th>\n",
              "      <th>Number of Records</th>\n",
              "      <th>Number Of Reviews</th>\n",
              "      <th>Price</th>\n",
              "      <th>Review Scores Rating</th>\n",
              "    </tr>\n",
              "  </thead>\n",
              "  <tbody>\n",
              "    <tr>\n",
              "      <th>0</th>\n",
              "      <td>5162530</td>\n",
              "      <td>NaN</td>\n",
              "      <td>1 Bedroom in Prime Williamsburg</td>\n",
              "      <td>Brooklyn</td>\n",
              "      <td>Apartment</td>\n",
              "      <td>NaN</td>\n",
              "      <td>Entire home/apt</td>\n",
              "      <td>11249.0</td>\n",
              "      <td>1.0</td>\n",
              "      <td>1</td>\n",
              "      <td>0</td>\n",
              "      <td>145</td>\n",
              "      <td>NaN</td>\n",
              "    </tr>\n",
              "    <tr>\n",
              "      <th>1</th>\n",
              "      <td>33134899</td>\n",
              "      <td>NaN</td>\n",
              "      <td>Sunny, Private room in Bushwick</td>\n",
              "      <td>Brooklyn</td>\n",
              "      <td>Apartment</td>\n",
              "      <td>NaN</td>\n",
              "      <td>Private room</td>\n",
              "      <td>11206.0</td>\n",
              "      <td>1.0</td>\n",
              "      <td>1</td>\n",
              "      <td>1</td>\n",
              "      <td>37</td>\n",
              "      <td>NaN</td>\n",
              "    </tr>\n",
              "    <tr>\n",
              "      <th>2</th>\n",
              "      <td>39608626</td>\n",
              "      <td>NaN</td>\n",
              "      <td>Sunny Room in Harlem</td>\n",
              "      <td>Manhattan</td>\n",
              "      <td>Apartment</td>\n",
              "      <td>NaN</td>\n",
              "      <td>Private room</td>\n",
              "      <td>10032.0</td>\n",
              "      <td>1.0</td>\n",
              "      <td>1</td>\n",
              "      <td>1</td>\n",
              "      <td>28</td>\n",
              "      <td>NaN</td>\n",
              "    </tr>\n",
              "    <tr>\n",
              "      <th>3</th>\n",
              "      <td>500</td>\n",
              "      <td>6/26/2008</td>\n",
              "      <td>Gorgeous 1 BR with Private Balcony</td>\n",
              "      <td>Manhattan</td>\n",
              "      <td>Apartment</td>\n",
              "      <td>NaN</td>\n",
              "      <td>Entire home/apt</td>\n",
              "      <td>10024.0</td>\n",
              "      <td>3.0</td>\n",
              "      <td>1</td>\n",
              "      <td>0</td>\n",
              "      <td>199</td>\n",
              "      <td>NaN</td>\n",
              "    </tr>\n",
              "    <tr>\n",
              "      <th>4</th>\n",
              "      <td>500</td>\n",
              "      <td>6/26/2008</td>\n",
              "      <td>Trendy Times Square Loft</td>\n",
              "      <td>Manhattan</td>\n",
              "      <td>Apartment</td>\n",
              "      <td>95.0</td>\n",
              "      <td>Private room</td>\n",
              "      <td>10036.0</td>\n",
              "      <td>3.0</td>\n",
              "      <td>1</td>\n",
              "      <td>39</td>\n",
              "      <td>549</td>\n",
              "      <td>96.0</td>\n",
              "    </tr>\n",
              "  </tbody>\n",
              "</table>\n",
              "</div>\n",
              "    <div class=\"colab-df-buttons\">\n",
              "\n",
              "  <div class=\"colab-df-container\">\n",
              "    <button class=\"colab-df-convert\" onclick=\"convertToInteractive('df-3f8dec30-7918-4ea0-ad06-fd1b030a363a')\"\n",
              "            title=\"Convert this dataframe to an interactive table.\"\n",
              "            style=\"display:none;\">\n",
              "\n",
              "  <svg xmlns=\"http://www.w3.org/2000/svg\" height=\"24px\" viewBox=\"0 -960 960 960\">\n",
              "    <path d=\"M120-120v-720h720v720H120Zm60-500h600v-160H180v160Zm220 220h160v-160H400v160Zm0 220h160v-160H400v160ZM180-400h160v-160H180v160Zm440 0h160v-160H620v160ZM180-180h160v-160H180v160Zm440 0h160v-160H620v160Z\"/>\n",
              "  </svg>\n",
              "    </button>\n",
              "\n",
              "  <style>\n",
              "    .colab-df-container {\n",
              "      display:flex;\n",
              "      gap: 12px;\n",
              "    }\n",
              "\n",
              "    .colab-df-convert {\n",
              "      background-color: #E8F0FE;\n",
              "      border: none;\n",
              "      border-radius: 50%;\n",
              "      cursor: pointer;\n",
              "      display: none;\n",
              "      fill: #1967D2;\n",
              "      height: 32px;\n",
              "      padding: 0 0 0 0;\n",
              "      width: 32px;\n",
              "    }\n",
              "\n",
              "    .colab-df-convert:hover {\n",
              "      background-color: #E2EBFA;\n",
              "      box-shadow: 0px 1px 2px rgba(60, 64, 67, 0.3), 0px 1px 3px 1px rgba(60, 64, 67, 0.15);\n",
              "      fill: #174EA6;\n",
              "    }\n",
              "\n",
              "    .colab-df-buttons div {\n",
              "      margin-bottom: 4px;\n",
              "    }\n",
              "\n",
              "    [theme=dark] .colab-df-convert {\n",
              "      background-color: #3B4455;\n",
              "      fill: #D2E3FC;\n",
              "    }\n",
              "\n",
              "    [theme=dark] .colab-df-convert:hover {\n",
              "      background-color: #434B5C;\n",
              "      box-shadow: 0px 1px 3px 1px rgba(0, 0, 0, 0.15);\n",
              "      filter: drop-shadow(0px 1px 2px rgba(0, 0, 0, 0.3));\n",
              "      fill: #FFFFFF;\n",
              "    }\n",
              "  </style>\n",
              "\n",
              "    <script>\n",
              "      const buttonEl =\n",
              "        document.querySelector('#df-3f8dec30-7918-4ea0-ad06-fd1b030a363a button.colab-df-convert');\n",
              "      buttonEl.style.display =\n",
              "        google.colab.kernel.accessAllowed ? 'block' : 'none';\n",
              "\n",
              "      async function convertToInteractive(key) {\n",
              "        const element = document.querySelector('#df-3f8dec30-7918-4ea0-ad06-fd1b030a363a');\n",
              "        const dataTable =\n",
              "          await google.colab.kernel.invokeFunction('convertToInteractive',\n",
              "                                                    [key], {});\n",
              "        if (!dataTable) return;\n",
              "\n",
              "        const docLinkHtml = 'Like what you see? Visit the ' +\n",
              "          '<a target=\"_blank\" href=https://colab.research.google.com/notebooks/data_table.ipynb>data table notebook</a>'\n",
              "          + ' to learn more about interactive tables.';\n",
              "        element.innerHTML = '';\n",
              "        dataTable['output_type'] = 'display_data';\n",
              "        await google.colab.output.renderOutput(dataTable, element);\n",
              "        const docLink = document.createElement('div');\n",
              "        docLink.innerHTML = docLinkHtml;\n",
              "        element.appendChild(docLink);\n",
              "      }\n",
              "    </script>\n",
              "  </div>\n",
              "\n",
              "\n",
              "<div id=\"df-3df547f9-f96d-457c-9aef-3fddc77ac701\">\n",
              "  <button class=\"colab-df-quickchart\" onclick=\"quickchart('df-3df547f9-f96d-457c-9aef-3fddc77ac701')\"\n",
              "            title=\"Suggest charts\"\n",
              "            style=\"display:none;\">\n",
              "\n",
              "<svg xmlns=\"http://www.w3.org/2000/svg\" height=\"24px\"viewBox=\"0 0 24 24\"\n",
              "     width=\"24px\">\n",
              "    <g>\n",
              "        <path d=\"M19 3H5c-1.1 0-2 .9-2 2v14c0 1.1.9 2 2 2h14c1.1 0 2-.9 2-2V5c0-1.1-.9-2-2-2zM9 17H7v-7h2v7zm4 0h-2V7h2v10zm4 0h-2v-4h2v4z\"/>\n",
              "    </g>\n",
              "</svg>\n",
              "  </button>\n",
              "\n",
              "<style>\n",
              "  .colab-df-quickchart {\n",
              "      --bg-color: #E8F0FE;\n",
              "      --fill-color: #1967D2;\n",
              "      --hover-bg-color: #E2EBFA;\n",
              "      --hover-fill-color: #174EA6;\n",
              "      --disabled-fill-color: #AAA;\n",
              "      --disabled-bg-color: #DDD;\n",
              "  }\n",
              "\n",
              "  [theme=dark] .colab-df-quickchart {\n",
              "      --bg-color: #3B4455;\n",
              "      --fill-color: #D2E3FC;\n",
              "      --hover-bg-color: #434B5C;\n",
              "      --hover-fill-color: #FFFFFF;\n",
              "      --disabled-bg-color: #3B4455;\n",
              "      --disabled-fill-color: #666;\n",
              "  }\n",
              "\n",
              "  .colab-df-quickchart {\n",
              "    background-color: var(--bg-color);\n",
              "    border: none;\n",
              "    border-radius: 50%;\n",
              "    cursor: pointer;\n",
              "    display: none;\n",
              "    fill: var(--fill-color);\n",
              "    height: 32px;\n",
              "    padding: 0;\n",
              "    width: 32px;\n",
              "  }\n",
              "\n",
              "  .colab-df-quickchart:hover {\n",
              "    background-color: var(--hover-bg-color);\n",
              "    box-shadow: 0 1px 2px rgba(60, 64, 67, 0.3), 0 1px 3px 1px rgba(60, 64, 67, 0.15);\n",
              "    fill: var(--button-hover-fill-color);\n",
              "  }\n",
              "\n",
              "  .colab-df-quickchart-complete:disabled,\n",
              "  .colab-df-quickchart-complete:disabled:hover {\n",
              "    background-color: var(--disabled-bg-color);\n",
              "    fill: var(--disabled-fill-color);\n",
              "    box-shadow: none;\n",
              "  }\n",
              "\n",
              "  .colab-df-spinner {\n",
              "    border: 2px solid var(--fill-color);\n",
              "    border-color: transparent;\n",
              "    border-bottom-color: var(--fill-color);\n",
              "    animation:\n",
              "      spin 1s steps(1) infinite;\n",
              "  }\n",
              "\n",
              "  @keyframes spin {\n",
              "    0% {\n",
              "      border-color: transparent;\n",
              "      border-bottom-color: var(--fill-color);\n",
              "      border-left-color: var(--fill-color);\n",
              "    }\n",
              "    20% {\n",
              "      border-color: transparent;\n",
              "      border-left-color: var(--fill-color);\n",
              "      border-top-color: var(--fill-color);\n",
              "    }\n",
              "    30% {\n",
              "      border-color: transparent;\n",
              "      border-left-color: var(--fill-color);\n",
              "      border-top-color: var(--fill-color);\n",
              "      border-right-color: var(--fill-color);\n",
              "    }\n",
              "    40% {\n",
              "      border-color: transparent;\n",
              "      border-right-color: var(--fill-color);\n",
              "      border-top-color: var(--fill-color);\n",
              "    }\n",
              "    60% {\n",
              "      border-color: transparent;\n",
              "      border-right-color: var(--fill-color);\n",
              "    }\n",
              "    80% {\n",
              "      border-color: transparent;\n",
              "      border-right-color: var(--fill-color);\n",
              "      border-bottom-color: var(--fill-color);\n",
              "    }\n",
              "    90% {\n",
              "      border-color: transparent;\n",
              "      border-bottom-color: var(--fill-color);\n",
              "    }\n",
              "  }\n",
              "</style>\n",
              "\n",
              "  <script>\n",
              "    async function quickchart(key) {\n",
              "      const quickchartButtonEl =\n",
              "        document.querySelector('#' + key + ' button');\n",
              "      quickchartButtonEl.disabled = true;  // To prevent multiple clicks.\n",
              "      quickchartButtonEl.classList.add('colab-df-spinner');\n",
              "      try {\n",
              "        const charts = await google.colab.kernel.invokeFunction(\n",
              "            'suggestCharts', [key], {});\n",
              "      } catch (error) {\n",
              "        console.error('Error during call to suggestCharts:', error);\n",
              "      }\n",
              "      quickchartButtonEl.classList.remove('colab-df-spinner');\n",
              "      quickchartButtonEl.classList.add('colab-df-quickchart-complete');\n",
              "    }\n",
              "    (() => {\n",
              "      let quickchartButtonEl =\n",
              "        document.querySelector('#df-3df547f9-f96d-457c-9aef-3fddc77ac701 button');\n",
              "      quickchartButtonEl.style.display =\n",
              "        google.colab.kernel.accessAllowed ? 'block' : 'none';\n",
              "    })();\n",
              "  </script>\n",
              "</div>\n",
              "\n",
              "    </div>\n",
              "  </div>\n"
            ],
            "application/vnd.google.colaboratory.intrinsic+json": {
              "type": "dataframe",
              "variable_name": "df",
              "summary": "{\n  \"name\": \"df\",\n  \"rows\": 30478,\n  \"fields\": [\n    {\n      \"column\": \"Host Id\",\n      \"properties\": {\n        \"dtype\": \"number\",\n        \"std\": 11902702,\n        \"min\": 500,\n        \"max\": 43033067,\n        \"num_unique_values\": 24421,\n        \"samples\": [\n          24093114,\n          16925490,\n          2886652\n        ],\n        \"semantic_type\": \"\",\n        \"description\": \"\"\n      }\n    },\n    {\n      \"column\": \"Host Since\",\n      \"properties\": {\n        \"dtype\": \"date\",\n        \"min\": \"2008-06-26 00:00:00\",\n        \"max\": \"2015-08-31 00:00:00\",\n        \"num_unique_values\": 2240,\n        \"samples\": [\n          \"5/20/2010\",\n          \"7/2/2009\",\n          \"4/18/2015\"\n        ],\n        \"semantic_type\": \"\",\n        \"description\": \"\"\n      }\n    },\n    {\n      \"column\": \"Name\",\n      \"properties\": {\n        \"dtype\": \"string\",\n        \"num_unique_values\": 29413,\n        \"samples\": [\n          \"Explore the beauty of Brooklyn\",\n          \"Sunny Room in Williamsburg Loft\",\n          \"cozy one bedroom in lower east side\"\n        ],\n        \"semantic_type\": \"\",\n        \"description\": \"\"\n      }\n    },\n    {\n      \"column\": \"Neighbourhood \",\n      \"properties\": {\n        \"dtype\": \"category\",\n        \"num_unique_values\": 5,\n        \"samples\": [\n          \"Manhattan\",\n          \"Staten Island\",\n          \"Queens\"\n        ],\n        \"semantic_type\": \"\",\n        \"description\": \"\"\n      }\n    },\n    {\n      \"column\": \"Property Type\",\n      \"properties\": {\n        \"dtype\": \"category\",\n        \"num_unique_values\": 19,\n        \"samples\": [\n          \"Apartment\",\n          \"Condominium\",\n          \"Bungalow\"\n        ],\n        \"semantic_type\": \"\",\n        \"description\": \"\"\n      }\n    },\n    {\n      \"column\": \"Review Scores Rating (bin)\",\n      \"properties\": {\n        \"dtype\": \"number\",\n        \"std\": 9.05951861814779,\n        \"min\": 20.0,\n        \"max\": 100.0,\n        \"num_unique_values\": 15,\n        \"samples\": [\n          40.0,\n          20.0,\n          95.0\n        ],\n        \"semantic_type\": \"\",\n        \"description\": \"\"\n      }\n    },\n    {\n      \"column\": \"Room Type\",\n      \"properties\": {\n        \"dtype\": \"category\",\n        \"num_unique_values\": 3,\n        \"samples\": [\n          \"Entire home/apt\",\n          \"Private room\",\n          \"Shared room\"\n        ],\n        \"semantic_type\": \"\",\n        \"description\": \"\"\n      }\n    },\n    {\n      \"column\": \"Zipcode\",\n      \"properties\": {\n        \"dtype\": \"number\",\n        \"std\": 921.2993969568683,\n        \"min\": 1003.0,\n        \"max\": 99135.0,\n        \"num_unique_values\": 188,\n        \"samples\": [\n          11414.0,\n          11239.0,\n          11365.0\n        ],\n        \"semantic_type\": \"\",\n        \"description\": \"\"\n      }\n    },\n    {\n      \"column\": \"Beds\",\n      \"properties\": {\n        \"dtype\": \"number\",\n        \"std\": 1.0153587174802678,\n        \"min\": 0.0,\n        \"max\": 16.0,\n        \"num_unique_values\": 14,\n        \"samples\": [\n          12.0,\n          16.0,\n          1.0\n        ],\n        \"semantic_type\": \"\",\n        \"description\": \"\"\n      }\n    },\n    {\n      \"column\": \"Number of Records\",\n      \"properties\": {\n        \"dtype\": \"number\",\n        \"std\": 0,\n        \"min\": 1,\n        \"max\": 1,\n        \"num_unique_values\": 1,\n        \"samples\": [\n          1\n        ],\n        \"semantic_type\": \"\",\n        \"description\": \"\"\n      }\n    },\n    {\n      \"column\": \"Number Of Reviews\",\n      \"properties\": {\n        \"dtype\": \"number\",\n        \"std\": 21,\n        \"min\": 0,\n        \"max\": 257,\n        \"num_unique_values\": 205,\n        \"samples\": [\n          171\n        ],\n        \"semantic_type\": \"\",\n        \"description\": \"\"\n      }\n    },\n    {\n      \"column\": \"Price\",\n      \"properties\": {\n        \"dtype\": \"category\",\n        \"num_unique_values\": 511,\n        \"samples\": [\n          \"299\"\n        ],\n        \"semantic_type\": \"\",\n        \"description\": \"\"\n      }\n    },\n    {\n      \"column\": \"Review Scores Rating\",\n      \"properties\": {\n        \"dtype\": \"number\",\n        \"std\": 8.850373136231884,\n        \"min\": 20.0,\n        \"max\": 100.0,\n        \"num_unique_values\": 51,\n        \"samples\": [\n          58.0\n        ],\n        \"semantic_type\": \"\",\n        \"description\": \"\"\n      }\n    }\n  ]\n}"
            }
          },
          "metadata": {},
          "execution_count": 5
        }
      ]
    },
    {
      "cell_type": "markdown",
      "source": [
        "Clean the data and perform EDA + visualization："
      ],
      "metadata": {
        "id": "QFKlbMmrvtkD"
      }
    },
    {
      "cell_type": "code",
      "source": [
        "# Standardize column names for easier use (remove spaces and unify format)\n",
        "df.columns = df.columns.str.strip().str.replace(\" \", \"_\")\n",
        "\n",
        "# Then, convert target variable 'Price' to numeric\n",
        "# Some price values might be strings or missing; coerce forces conversion to NaN if needed\n",
        "df['Price'] = pd.to_numeric(df['Price'], errors='coerce')\n",
        "\n",
        "# Drop rows with missing target 'Price' or essential features\n",
        "df = df.dropna(subset=['Price', 'Beds', 'Room_Type', 'Neighbourhood', 'Property_Type'])\n",
        "\n",
        "#Filter out extreme prices (top 10%) to avoid distortion\n",
        "q90 = np.quantile(df['Price'], 0.9)\n",
        "df = df[df['Price'] < q90]\n",
        "\n",
        "# Plot histogram of prices to visualize distribution\n",
        "sns.histplot(df['Price'], bins=30)\n",
        "plt.title(\"Distribution of Airbnb Prices (Filtered)\")\n",
        "plt.xlabel(\"Price\")\n",
        "plt.ylabel(\"Frequency\")\n",
        "plt.show()\n",
        "\n",
        "# Use boxplot to see how room type affects price since variables are categorical\n",
        "sns.boxplot(data=df, x='Room_Type', y='Price')\n",
        "plt.title(\"Price by Room Type\")\n",
        "plt.show()\n",
        "\n",
        "# Step 1.8: Count top categories in Neighbourhood and Property_Type\n",
        "print(\"Top Neighbourhoods:\\n\", df['Neighbourhood'].value_counts().head())\n",
        "print(\"Top Property Types:\\n\", df['Property_Type'].value_counts().head())\n",
        "\n"
      ],
      "metadata": {
        "id": "ZZHrSSOkvu87",
        "outputId": "50c436bd-9eaf-4b02-a223-32144e05e900",
        "colab": {
          "base_uri": "https://localhost:8080/",
          "height": 1000
        }
      },
      "execution_count": 6,
      "outputs": [
        {
          "output_type": "display_data",
          "data": {
            "text/plain": [
              "<Figure size 640x480 with 1 Axes>"
            ],
            "image/png": "[encoded data removed]"
          },
          "metadata": {}
        },
        {
          "output_type": "display_data",
          "data": {
            "text/plain": [
              "<Figure size 640x480 with 1 Axes>"
            ],
            "image/png": "[encoded data removed]"
          },
          "metadata": {}
        },
        {
          "output_type": "stream",
          "name": "stdout",
          "text": [
            "Top Neighbourhoods:\n",
            " Neighbourhood\n",
            "Manhattan        13482\n",
            "Brooklyn         11012\n",
            "Queens            2211\n",
            "Bronx              339\n",
            "Staten Island      134\n",
            "Name: count, dtype: int64\n",
            "Top Property Types:\n",
            " Property_Type\n",
            "Apartment          24306\n",
            "House               1825\n",
            "Loft                 591\n",
            "Bed & Breakfast      177\n",
            "Townhouse            112\n",
            "Name: count, dtype: int64\n"
          ]
        }
      ]
    },
    {
      "cell_type": "markdown",
      "source": [
        "2. Transform your variables — particularly categorical ones — for use in your regression analysis.\n",
        "The goal is to convert categorical features into numerical form to facilitate the use of linear models. I'll adopt dummy variables next."
      ],
      "metadata": {
        "id": "0zTKEqKQxLc6"
      }
    },
    {
      "cell_type": "code",
      "source": [
        "# First, select relevant categorical variables to transform\n",
        "# Based on the EDA, these variables are potentially predictive\n",
        "categorical_vars = ['Room_Type', 'Neighbourhood', 'Property_Type']\n",
        "\n",
        "# Then, create dummy variables using one-hot encoding\n",
        "# drop_first=True avoids multicollinearity by dropping the first category\n",
        "df_encoded = pd.get_dummies(df, columns=categorical_vars, drop_first=True)\n",
        "\n",
        "# Last, check resulting dataframe shape and column names\n",
        "print(\"Encoded dataframe shape:\", df_encoded.shape)\n",
        "print(\"Encoded column examples:\\n\", df_encoded.columns[:10])\n"
      ],
      "metadata": {
        "id": "mysnUk9DxPva",
        "outputId": "425dfdca-adce-4633-cfad-5fba8cf8aa71",
        "colab": {
          "base_uri": "https://localhost:8080/"
        }
      },
      "execution_count": 7,
      "outputs": [
        {
          "output_type": "stream",
          "name": "stdout",
          "text": [
            "Encoded dataframe shape: (27178, 34)\n",
            "Encoded column examples:\n",
            " Index(['Host_Id', 'Host_Since', 'Name', 'Review_Scores_Rating_(bin)',\n",
            "       'Zipcode', 'Beds', 'Number_of_Records', 'Number_Of_Reviews', 'Price',\n",
            "       'Review_Scores_Rating'],\n",
            "      dtype='object')\n"
          ]
        }
      ]
    },
    {
      "cell_type": "markdown",
      "source": [
        "3.  Implement an 80/20 train-test split. Put the test data aside."
      ],
      "metadata": {
        "id": "QCT2Zy8Qxnf8"
      }
    },
    {
      "cell_type": "code",
      "source": [
        "# Frist, separate features and target\n",
        "# The target variable is 'Price', all other columns are features\n",
        "y = df_encoded['Price'].values  # Target: Price\n",
        "X = df_encoded.drop(columns=['Price']).values  # Features: All other columns\n",
        "\n",
        "# Then, create 80/20 train-test split using NumPy\n",
        "# Set random seed for reproducibility\n",
        "np.random.seed(42)\n",
        "N = X.shape[0]  # Total number of observations\n",
        "idx = np.random.permutation(N)  # Randomly permute indices\n",
        "\n",
        "# Determine cutoff index\n",
        "cutoff = int(0.8 * N)\n",
        "train_idx = idx[:cutoff]\n",
        "test_idx = idx[cutoff:]\n",
        "\n",
        "# Split into train and test sets\n",
        "X_train = X[train_idx, :]\n",
        "X_test = X[test_idx, :]\n",
        "y_train = y[train_idx]\n",
        "y_test = y[test_idx]\n",
        "\n",
        "# Last, confirm shapes of splits\n",
        "print(\"Training data shape:\", X_train.shape)\n",
        "print(\"Test data shape:\", X_test.shape)\n"
      ],
      "metadata": {
        "id": "ErsioJh1xxm0",
        "outputId": "8320adbf-5ffe-4887-a5e1-eab00e4b7656",
        "colab": {
          "base_uri": "https://localhost:8080/"
        }
      },
      "execution_count": 8,
      "outputs": [
        {
          "output_type": "stream",
          "name": "stdout",
          "text": [
            "Training data shape: (21742, 33)\n",
            "Test data shape: (5436, 33)\n"
          ]
        }
      ]
    },
    {
      "cell_type": "markdown",
      "source": [
        "4. Build simple linear models (no transformations or interactions):\n",
        "Only numeric + dummy variables, no transformations or interactions"
      ],
      "metadata": {
        "id": "HORU3roFyF4y"
      }
    },
    {
      "cell_type": "code",
      "source": [
        "# Add intercept to feature matrices\n",
        "X_train_intercept = np.column_stack((np.ones(X_train.shape[0]), X_train))\n",
        "X_test_intercept = np.column_stack((np.ones(X_test.shape[0]), X_test))\n",
        "\n",
        "# Fit model using OLS (least squares)\n",
        "beta_hat, _, _, _ = np.linalg.lstsq(X_train_intercept, y_train, rcond=None)\n",
        "\n",
        "# Predict on training and test sets\n",
        "y_train_pred = X_train_intercept @ beta_hat\n",
        "y_test_pred = X_test_intercept @ beta_hat\n",
        "\n",
        "# Define evaluation metrics\n",
        "def rmse(y_true, y_pred):\n",
        "    return np.sqrt(np.mean((y_true - y_pred) ** 2))\n",
        "\n",
        "def r_squared(y_true, y_pred):\n",
        "    ss_total = np.sum((y_true - np.mean(y_true)) ** 2)\n",
        "    ss_residual = np.sum((y_true - y_pred) ** 2)\n",
        "    return 1 - ss_residual / ss_total\n",
        "\n",
        "# Evaluate model\n",
        "print(\"Train RMSE:\", rmse(y_train, y_train_pred))\n",
        "print(\"Test RMSE:\", rmse(y_test, y_test_pred))\n",
        "print(\"Train R²:\", r_squared(y_train, y_train_pred))\n",
        "print(\"Test R²:\", r_squared(y_test, y_test_pred))\n",
        "\n"
      ],
      "metadata": {
        "id": "Z1RMDLzUzF21",
        "outputId": "a4618402-1f47-4521-dbaa-b978f5b6bdcd",
        "colab": {
          "base_uri": "https://localhost:8080/"
        }
      },
      "execution_count": 14,
      "outputs": [
        {
          "output_type": "stream",
          "name": "stdout",
          "text": [
            "Train RMSE: 34.75842861265315\n",
            "Test RMSE: 34.8889011168795\n",
            "Train R²: 0.4365663815606705\n",
            "Test R²: 0.435400664854232\n"
          ]
        }
      ]
    },
    {
      "cell_type": "markdown",
      "source": [
        "I built a basic linear regression model using only two predictors:\n",
        "\n",
        "Beds (numeric)\n",
        "\n",
        "Room_Type (categorical, one-hot encoded with drop_first=True)\n",
        "\n",
        "This model includes no transformations (such as log, squared terms) and no interaction terms, as required by the instructions.\n",
        "\n",
        "To estimate the model, I used the least squares closed-form solution via np.linalg.lstsq().\n",
        "I also added an intercept manually by including a column of 1s in the feature matrix.\n",
        "\n",
        "The model performed similarly on both the training and test sets, with an RMSE of approximately 42.9 and 42.6, and an 𝑅2 of 0.44 and 0.45, respectively.\n",
        "\n",
        "This suggests that the model generalizes well and captures a moderate amount of variation in price using just these two predictors.\n",
        "\n",
        "> Conclusion: This is the best-performing simple model I tested. It is consistent with course methods and meets all the requirements of this question.\n",
        "\n"
      ],
      "metadata": {
        "id": "El4OiNRymkmI"
      }
    },
    {
      "cell_type": "markdown",
      "source": [
        "5. Make partial correlation plots for each numeric variable. Look for non-linearity."
      ],
      "metadata": {
        "id": "PAsR-zqlmX5F"
      }
    },
    {
      "cell_type": "code",
      "source": [
        "import seaborn as sns\n",
        "import matplotlib.pyplot as plt\n",
        "\n",
        "# Select numeric predictors for partial plots\n",
        "# (excluding 'Price' itself and any encoded dummies)\n",
        "numeric_vars = ['Beds']\n",
        "\n",
        "# Create one plot for each numeric variable\n",
        "for var in numeric_vars:\n",
        "    sns.lmplot(data=df_model_encoded, x=var, y='Price', lowess=True)\n",
        "    plt.title(f'Partial plot: {var} vs Price')\n",
        "    plt.xlabel(var)\n",
        "    plt.ylabel('Price')\n",
        "    plt.show()\n"
      ],
      "metadata": {
        "id": "KHS_GNpung-u",
        "outputId": "2151f378-f580-487b-d93c-5b7fcb784371",
        "colab": {
          "base_uri": "https://localhost:8080/",
          "height": 565
        }
      },
      "execution_count": 16,
      "outputs": [
        {
          "output_type": "stream",
          "name": "stderr",
          "text": [
            "/usr/local/lib/python3.11/dist-packages/statsmodels/nonparametric/smoothers_lowess.py:226: RuntimeWarning: invalid value encountered in divide\n",
            "  res, _ = _lowess(y, x, x, np.ones_like(x),\n"
          ]
        },
        {
          "output_type": "display_data",
          "data": {
            "text/plain": [
              "<Figure size 500x500 with 1 Axes>"
            ],
            "image/png": "[encoded data removed]"
          },
          "metadata": {}
        }
      ]
    },
    {
      "cell_type": "markdown",
      "source": [
        "Based on the partial correlation plot between Beds and Price, there appears to be a non-linear relationship.\n",
        "While price increases with beds initially, the effect levels off or slightly reverses for higher bed counts.\n",
        "This suggests that a simple linear model may not fully capture the relationship between these variables."
      ],
      "metadata": {
        "id": "UgXt_H3SoQU0"
      }
    },
    {
      "cell_type": "markdown",
      "source": [
        "6.\n",
        "* Add non-linear transformations.\n",
        "The partial plot for Beds suggests a non-linear relationship with price. I would consider adding Beds² or using log(Beds + 1) to better capture diminishing returns.\n",
        "\n",
        "* Include interaction terms.\n",
        "It’s possible that the effect of Beds depends on Room_Type. For example, more beds in a shared room may not increase price the same way as in an entire home. Adding an interaction between Beds and Room_Type could help the model capture these patterns.\n",
        "\n",
        "* Engineer new features.\n",
        "I might create new variables such as:\n",
        "   A binary flag for listings with more than 3 beds；\n",
        "   A variable combining Beds and Room_Type into room density\n",
        "\n",
        "* Remove additional outliers.\n",
        "Though I already removed the top 10% of prices, I may also remove rows with extreme values in Beds (e.g., more than 8) or apply robust regression methods.\n",
        "\n",
        "* Try alternative modeling methods.\n",
        "Eventually, I would try regularized regression (like Ridge or Lasso), but only after building a strong baseline using all ideas taught in class.\n",
        "\n"
      ],
      "metadata": {
        "id": "6ifctaqOomHF"
      }
    },
    {
      "cell_type": "markdown",
      "source": [
        "7."
      ],
      "metadata": {
        "id": "_8qaomyYqGHb"
      }
    },
    {
      "cell_type": "markdown",
      "source": [
        "Summary:\n",
        "\n",
        "1. Beds have a small but positive effect.\n",
        "The model estimates that each additional bed increases price by about $5.33, holding room type constant. This suggests hosts shouldn’t expect a large revenue boost just by adding beds.\n",
        "\n",
        "2. Room type matters more than beds.\n",
        "Compared to entire homes (baseline),\n",
        "\n",
        "* Private rooms charge $71.84 less\n",
        "\n",
        "* Shared rooms charge $89.49 less\n",
        "\n",
        "> Airbnb could guide hosts to upgrade from shared/private to entire homes when possible, as that may yield higher revenue.\n",
        "\n",
        "\n",
        "\n",
        "\n",
        "\n",
        "3. Pricing predictions have moderate accuracy.\n",
        "The model’s RMSE is about $42, and it explains ~45% of the variance in price. While helpful, the model cannot fully explain pricing, likely due to unmeasured factors like location quality, reviews, or seasonality.\n",
        "\n",
        "4. Non-linear effects suggest smarter optimization.\n",
        "Since we observed non-linearity in the partial plots, Airbnb might consider using more advanced models to better predict pricing for listings with many beds.\n",
        "\n",
        "> Business action:\n",
        "Airbnb could implement an internal tool to suggest price ranges based on Room_Type and Beds, flag potentially underpriced listings, and guide new hosts in choosing listing formats.\n"
      ],
      "metadata": {
        "id": "COeQIqeiphs3"
      }
    },
    {
      "cell_type": "markdown",
      "source": [
        "8."
      ],
      "metadata": {
        "id": "Dhs2zggAqD0N"
      }
    },
    {
      "cell_type": "markdown",
      "source": [
        "There are several key limitations in my model:\n",
        "\n",
        "1. It ignores many relevant predictors.\n",
        "My model only used Beds and Room_Type, but Airbnb prices are likely influenced by location, seasonality, amenities, reviews, and more. Excluding these variables limits the model’s explanatory power (R² ≈ 0.45).\n",
        "\n",
        "2. The model assumes linear relationships.\n",
        "Although simple linear models are easy to interpret, the partial plot for Beds showed a non-linear trend. This means the model may systematically under- or overestimate prices in certain ranges.\n",
        "\n",
        "3. Dummy variables may still be too sparse.\n",
        "Even after reducing categories, encoding many dummy variables (e.g., Neighbourhood, Property_Type) can lead to multicollinearity or instability in coefficient estimates.\n",
        "\n",
        "4. Price data may have noise or mislabeling.\n",
        "Some listings may be priced incorrectly or inconsistently, which can affect model training, especially when using least squares, which is sensitive to outliers.\n",
        "\n"
      ],
      "metadata": {
        "id": "v_6sKlOvpzVx"
      }
    },
    {
      "cell_type": "markdown",
      "source": [
        "* Use cross-validation (e.g., k-fold) to assess how well the model generalizes across different samples.\n",
        "* Check prediction intervals or confidence intervals on coefficients to understand uncertainty.\n",
        "* Train the model on different time slices or geographic regions to see if the relationships are consistent."
      ],
      "metadata": {
        "id": "E2whAtvcqK3S"
      }
    }
  ],
  "metadata": {
    "kernelspec": {
      "display_name": "base",
      "language": "python",
      "name": "python3"
    },
    "language_info": {
      "codemirror_mode": {
        "name": "ipython",
        "version": 3
      },
      "file_extension": ".py",
      "mimetype": "text/x-python",
      "name": "python",
      "nbconvert_exporter": "python",
      "pygments_lexer": "ipython3",
      "version": "3.12.2"
    },
    "colab": {
      "provenance": [],
      "include_colab_link": true
    }
  },
  "nbformat": 4,
  "nbformat_minor": 0
}